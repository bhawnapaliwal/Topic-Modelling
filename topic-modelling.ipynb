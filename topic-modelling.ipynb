{
  "nbformat": 4,
  "nbformat_minor": 0,
  "metadata": {
    "colab": {
      "name": "plsa_and_lsa_results_part2_4:27.ipynb",
      "provenance": [],
      "collapsed_sections": [],
      "machine_shape": "hm"
    },
    "kernelspec": {
      "name": "python3",
      "display_name": "Python 3"
    },
    "accelerator": "GPU"
  },
  "cells": [
    {
      "cell_type": "code",
      "metadata": {
        "id": "giVGLa-2JxtT",
        "colab_type": "code",
        "outputId": "f0ee0850-f1e2-47fb-a73f-fb9074e78f93",
        "colab": {
          "base_uri": "https://localhost:8080/",
          "height": 124
        }
      },
      "source": [
        "from google.colab import drive\n",
        "drive.mount('/content/drive')"
      ],
      "execution_count": 0,
      "outputs": [
        {
          "output_type": "stream",
          "text": [
            "Go to this URL in a browser: https://accounts.google.com/o/oauth2/auth?client_id=947318989803-6bn6qk8qdgf4n4g3pfee6491hc0brc4i.apps.googleusercontent.com&redirect_uri=urn%3Aietf%3Awg%3Aoauth%3A2.0%3Aoob&scope=email%20https%3A%2F%2Fwww.googleapis.com%2Fauth%2Fdocs.test%20https%3A%2F%2Fwww.googleapis.com%2Fauth%2Fdrive%20https%3A%2F%2Fwww.googleapis.com%2Fauth%2Fdrive.photos.readonly%20https%3A%2F%2Fwww.googleapis.com%2Fauth%2Fpeopleapi.readonly&response_type=code\n",
            "\n",
            "Enter your authorization code:\n",
            "··········\n",
            "Mounted at /content/drive\n"
          ],
          "name": "stdout"
        }
      ]
    },
    {
      "cell_type": "code",
      "metadata": {
        "id": "lfefQW4JPZO9",
        "colab_type": "code",
        "outputId": "eed2a91d-6552-4f72-8935-cbc5f6b70899",
        "colab": {
          "base_uri": "https://localhost:8080/",
          "height": 34
        }
      },
      "source": [
        "cd drive"
      ],
      "execution_count": 0,
      "outputs": [
        {
          "output_type": "stream",
          "text": [
            "/content/drive\n"
          ],
          "name": "stdout"
        }
      ]
    },
    {
      "cell_type": "code",
      "metadata": {
        "id": "bLIooGgRPzyk",
        "colab_type": "code",
        "outputId": "5f2039e6-2a57-4aa0-8f38-96d7e4beb9b8",
        "colab": {
          "base_uri": "https://localhost:8080/",
          "height": 34
        }
      },
      "source": [
        "cd My\\ Drive"
      ],
      "execution_count": 0,
      "outputs": [
        {
          "output_type": "stream",
          "text": [
            "/content/drive/My Drive\n"
          ],
          "name": "stdout"
        }
      ]
    },
    {
      "cell_type": "code",
      "metadata": {
        "id": "XcLAX8a1ECmx",
        "colab_type": "code",
        "colab": {}
      },
      "source": [
        "import numpy as np\n",
        "import pickle\n",
        "import pandas as pd"
      ],
      "execution_count": 0,
      "outputs": []
    },
    {
      "cell_type": "code",
      "metadata": {
        "id": "QwTrnCKsP8sr",
        "colab_type": "code",
        "colab": {}
      },
      "source": [
        "vector_space= np.load('vector_space1.npy')"
      ],
      "execution_count": 0,
      "outputs": []
    },
    {
      "cell_type": "code",
      "metadata": {
        "id": "oV9CMM9QhUVL",
        "colab_type": "code",
        "outputId": "0ff5a2b7-2b38-4d40-988e-86be4337a56b",
        "colab": {
          "base_uri": "https://localhost:8080/",
          "height": 34
        }
      },
      "source": [
        "print(vector_space.shape)"
      ],
      "execution_count": 0,
      "outputs": [
        {
          "output_type": "stream",
          "text": [
            "(32743, 2000)\n"
          ],
          "name": "stdout"
        }
      ]
    },
    {
      "cell_type": "code",
      "metadata": {
        "id": "EUay1SWeEc9F",
        "colab_type": "code",
        "colab": {}
      },
      "source": [
        "u, sigma, v = np.linalg.svd(vector_space)"
      ],
      "execution_count": 0,
      "outputs": []
    },
    {
      "cell_type": "code",
      "metadata": {
        "id": "rDizR3VKXdEd",
        "colab_type": "code",
        "colab": {}
      },
      "source": [
        "k=50"
      ],
      "execution_count": 0,
      "outputs": []
    },
    {
      "cell_type": "code",
      "metadata": {
        "id": "I9wEWXcyboDN",
        "colab_type": "code",
        "colab": {}
      },
      "source": [
        "u = u[:,:k]\n",
        "sigma = np.diag(sigma)\n",
        "sigma = sigma[:k,:k]\n",
        "v = v[:k,:]"
      ],
      "execution_count": 0,
      "outputs": []
    },
    {
      "cell_type": "code",
      "metadata": {
        "id": "qkk7gZNyjXvU",
        "colab_type": "code",
        "colab": {}
      },
      "source": [
        "np.save('u_50',u)\n",
        "np.save('sigma_50',sigma)\n",
        "np.save('v_50',v)"
      ],
      "execution_count": 0,
      "outputs": []
    },
    {
      "cell_type": "code",
      "metadata": {
        "id": "vPcc7tKUXb00",
        "colab_type": "code",
        "colab": {}
      },
      "source": [
        "np.save('u',u)\n",
        "np.save('sigma',sigma)\n",
        "np.save('v',v)"
      ],
      "execution_count": 0,
      "outputs": []
    },
    {
      "cell_type": "code",
      "metadata": {
        "id": "3iFIIWd0bd9N",
        "colab_type": "code",
        "colab": {}
      },
      "source": [
        "u = np.load('u.npy')\n",
        "sigma = np.load('sigma.npy')\n",
        "v = np.load('v.npy')"
      ],
      "execution_count": 0,
      "outputs": []
    },
    {
      "cell_type": "code",
      "metadata": {
        "id": "MHlSJ3qmZJyA",
        "colab_type": "code",
        "colab": {}
      },
      "source": [
        "# rows = vector_space.shape[0]\n",
        "# cols = vector_space.shape[1]\n",
        "# print(rows)\n",
        "# print(cols)\n",
        "rows = 32743\n",
        "cols = 2000"
      ],
      "execution_count": 0,
      "outputs": []
    },
    {
      "cell_type": "code",
      "metadata": {
        "id": "guomSVa6a8mN",
        "colab_type": "code",
        "colab": {}
      },
      "source": [
        "file = open('inverse_dict','rb')\n",
        "inv_dict = pickle.load(file)\n",
        "file.close()"
      ],
      "execution_count": 0,
      "outputs": []
    },
    {
      "cell_type": "code",
      "metadata": {
        "id": "6BtDwU3pXns4",
        "colab_type": "code",
        "outputId": "5b28b39d-684b-44be-a0d7-f5bfb860ac5f",
        "colab": {
          "base_uri": "https://localhost:8080/",
          "height": 885
        }
      },
      "source": [
        "\n",
        "for i in range(k):\n",
        "  vect_topic = v[i,:]\n",
        "  words=[]\n",
        "  for j in range(rows):\n",
        "    dot_prod = np.dot(vect_topic,vector_space[j,:])\n",
        "#     print('dot_prod: '+str(dot_prod))\n",
        "    words.append((dot_prod,j))\n",
        "  words.sort(key=lambda x: x[0],reverse=True)\n",
        "  string =''\n",
        "  for i1 in range(8):\n",
        "    string = string + ', '+inv_dict[words[i1][1]]\n",
        "  string = str(i)+'. '+string\n",
        "  print(string)"
      ],
      "execution_count": 0,
      "outputs": [
        {
          "output_type": "stream",
          "text": [
            "0. , s, wa, said, mr, hi, ha, thi, year\n",
            "1. , wa, hi, netflix, metro, rural, equiti, ambul, privat\n",
            "2. , netflix, hast, sarando, network, subscrib, stream, mr, mccord\n",
            "3. , netflix, said, priebu, hast, trump, rugbi, yuliya, karageorg\n",
            "4. , wa, priebu, trump, parti, republican, clinton, campaign, elect\n",
            "5. , parasit, mr, vik, diseas, helminth, hookworm, said, whipworm\n",
            "6. , parasit, diseas, vik, wa, helminth, hookworm, wada, whipworm\n",
            "7. , mr, nationstar, mortgag, hi, loan, foreclosur, rugbi, school\n",
            "8. , s, nationstar, mortgag, perez, polic, mateen, radiat, foreclosur\n",
            "9. , nationstar, mortgag, priebu, foreclosur, calib, loan, foreclos, auction\n",
            "10. , disney, shanghai, iger, said, china, chines, wa, park\n",
            "11. , britain, european, union, europ, mr, rugbi, british, referendum\n",
            "12. , disney, priebu, mr, shanghai, radiat, iger, air, plutonium\n",
            "13. , ozick, mr, yuliya, said, hi, ballet, perez, vitali\n",
            "14. , rugbi, radiat, air, plutonium, cohn, schoning, contamin, cancer\n",
            "15. , mr, abort, hi, justic, court, islam, gay, mateen\n",
            "16. , karageorg, wa, abort, court, wrestl, justic, webber, affirm\n",
            "17. , yuliya, vitali, said, rugbi, justic, abort, court, cohn\n",
            "18. , yuliya, vitali, charter, season, inning, game, jame, perez\n",
            "19. , perez, dealer, maddi, drug, rugbi, crew, heroin, melros\n",
            "20. , yuliya, wa, vitali, karageorg, appl, app, cohn, food\n",
            "21. , ozick, charter, wa, islam, detroit, turkey, karageorg, syria\n",
            "22. , ozick, bloom, cohn, literari, phelp, literatur, jewish, perez\n",
            "23. , phelp, viacom, redston, charter, percoco, cuomo, volkswagen, amus\n",
            "24. , viacom, redston, ozick, said, amus, hi, volkswagen, salerno\n",
            "25. , phelp, viacom, redston, student, colleg, amus, percoco, bowman\n",
            "26. , percoco, cuomo, democrat, governor, ballet, wa, clinton, senat\n",
            "27. , percoco, cuomo, said, governor, bill, appl, app, volkswagen\n",
            "28. , app, appl, gun, gay, charter, democrat, phelp, nate\n",
            "29. , ballet, choreograph, danc, volkswagen, dancer, femal, cohn, vehicl\n",
            "30. , keillor, app, appl, prairi, shomrim, radio, siri, facebook\n",
            "31. , percoco, cuomo, app, cohn, appl, gay, siri, fi\n",
            "32. , volkswagen, jame, curri, warrior, cavali, cleveland, black, owner\n",
            "33. , shomrim, volkswagen, black, vehicl, polic, colleg, car, chrysler\n",
            "34. , keillor, volkswagen, prairi, radio, percoco, car, argentina, vehicl\n",
            "35. , jame, curri, warrior, cavali, s, keillor, percoco, colleg\n",
            "36. , ferlinghetti, lord, publish, art, kerouac, dr, poet, messi\n",
            "37. , volkswagen, app, valparaiso, s, fi, appl, phelp, law\n",
            "38. , shomrim, rabbi, hella, zika, mosquito, bill, keillor, israel\n",
            "39. , valparaiso, wa, law, cohn, percoco, hella, mateen, gun\n",
            "40. , bill, curri, warrior, food, jame, valparaiso, cavali, nike\n",
            "41. , keillor, missil, cohn, gay, shomrim, ozick, bill, korea\n",
            "42. , gay, bar, missil, korea, lesbian, north, ferlinghetti, test\n",
            "43. , ferlinghetti, shomrim, lord, park, bank, percoco, turkey, said\n",
            "44. , ozick, black, fi, countrywid, poll, nate, bench, gray\n",
            "45. , said, mosquito, black, charcoal, simpson, cuban, speci, cuba\n",
            "46. , black, volkswagen, tribe, casino, schaghticok, mosquito, espaillat, zika\n",
            "47. , countrywid, missil, mozilo, tribe, schaghticok, casino, korea, musudan\n",
            "48. , rabbi, rabbin, tribe, israel, schaghticok, bench, whiskey, slave\n",
            "49. , charcoal, whiskey, slave, distil, distilleri, tribe, daniel, ferlinghetti\n"
          ],
          "name": "stdout"
        }
      ]
    },
    {
      "cell_type": "code",
      "metadata": {
        "id": "QrUP8PMtZ2J6",
        "colab_type": "code",
        "colab": {}
      },
      "source": [
        "df = pd.read_pickle('df_text.pkl')"
      ],
      "execution_count": 0,
      "outputs": []
    },
    {
      "cell_type": "code",
      "metadata": {
        "id": "R1UjMRFhczYX",
        "colab_type": "code",
        "colab": {}
      },
      "source": [
        "df = df.head(2000)"
      ],
      "execution_count": 0,
      "outputs": []
    },
    {
      "cell_type": "code",
      "metadata": {
        "id": "vEmsERpzWixn",
        "colab_type": "code",
        "colab": {}
      },
      "source": [
        "documents = df['Content']"
      ],
      "execution_count": 0,
      "outputs": []
    },
    {
      "cell_type": "code",
      "metadata": {
        "id": "eV3BsL2vZABh",
        "colab_type": "code",
        "colab": {}
      },
      "source": [
        "# unique_words=[]\n",
        "# cnt=0\n",
        "# for x in all_words:\n",
        "#     if cnt%10000==0:\n",
        "#         print(cnt)\n",
        "#     cnt+=1\n",
        "#     if x not in unique_words:\n",
        "#         unique_words.append(x)\n",
        "unique_words = np.load('unique_words1.npy')"
      ],
      "execution_count": 0,
      "outputs": []
    },
    {
      "cell_type": "code",
      "metadata": {
        "id": "zC0ToGxuab3d",
        "colab_type": "code",
        "colab": {}
      },
      "source": [
        "w2id = {}\n",
        "id2w={}\n",
        "for i in range(M):\n",
        "    w2id[unique_words[i]]=i\n",
        "for x,y in w2id.items():\n",
        "    id2w[y]=x"
      ],
      "execution_count": 0,
      "outputs": []
    },
    {
      "cell_type": "code",
      "metadata": {
        "id": "C940DCaQXDEb",
        "colab_type": "code",
        "colab": {}
      },
      "source": [
        "docs=[]\n",
        "currentdoc=[]"
      ],
      "execution_count": 0,
      "outputs": []
    },
    {
      "cell_type": "code",
      "metadata": {
        "id": "aJpVr4gKW9Fe",
        "colab_type": "code",
        "colab": {}
      },
      "source": [
        "for document in documents:\n",
        "  words_list = document.split(' ')\n",
        "  currentdoc=[]\n",
        "  for word in words_list:\n",
        "    currentdoc.append(w2id[word])\n",
        "  docs.append(currentdoc)"
      ],
      "execution_count": 0,
      "outputs": []
    },
    {
      "cell_type": "code",
      "metadata": {
        "id": "QdVFUDjUYvkq",
        "colab_type": "code",
        "colab": {}
      },
      "source": [
        "alpha=5\n",
        "beta=0.1\n",
        "N = 2000\n",
        "M = 32743\n",
        "K=50\n",
        "ndz = np.zeros([N,K])+alpha\n",
        "nzw = np.zeros([K,M])+beta\n",
        "nz = np.zeros([K])+M*beta"
      ],
      "execution_count": 0,
      "outputs": []
    },
    {
      "cell_type": "code",
      "metadata": {
        "id": "pawP4OKMdnwN",
        "colab_type": "code",
        "colab": {}
      },
      "source": [
        "Z=[]"
      ],
      "execution_count": 0,
      "outputs": []
    },
    {
      "cell_type": "code",
      "metadata": {
        "id": "PJsNXVBFdF56",
        "colab_type": "code",
        "outputId": "508c3a91-8a50-435a-d322-9c220374fd0f",
        "colab": {
          "base_uri": "https://localhost:8080/",
          "height": 364
        }
      },
      "source": [
        "cnt=0\n",
        "for d,doc in enumerate(docs):\n",
        "  if cnt%100==0:\n",
        "    print('cnt: '+str(cnt))\n",
        "  cnt+=1\n",
        "  zcurrentDoc = []\n",
        "  for w in doc:\n",
        "    pz = np.divide(np.multiply(ndz[d,:],nzw[:,w]),nz)\n",
        "    z = np.random.multinomial(1,pz/pz.sum()).argmax()\n",
        "    zcurrentDoc.append(z)\n",
        "    ndz[d,z]+=1\n",
        "    nzw[z,w]+=1\n",
        "    nz[z]+=1\n",
        "  Z.append(zcurrentDoc)"
      ],
      "execution_count": 0,
      "outputs": [
        {
          "output_type": "stream",
          "text": [
            "cnt: 0\n",
            "cnt: 100\n",
            "cnt: 200\n",
            "cnt: 300\n",
            "cnt: 400\n",
            "cnt: 500\n",
            "cnt: 600\n",
            "cnt: 700\n",
            "cnt: 800\n",
            "cnt: 900\n",
            "cnt: 1000\n",
            "cnt: 1100\n",
            "cnt: 1200\n",
            "cnt: 1300\n",
            "cnt: 1400\n",
            "cnt: 1500\n",
            "cnt: 1600\n",
            "cnt: 1700\n",
            "cnt: 1800\n",
            "cnt: 1900\n"
          ],
          "name": "stdout"
        }
      ]
    },
    {
      "cell_type": "code",
      "metadata": {
        "id": "qTfUY56GdwYQ",
        "colab_type": "code",
        "colab": {}
      },
      "source": [
        "def gibbsSampling():\n",
        "  t=0\n",
        "  for d,doc in enumerate(docs):\n",
        "    for index,w in enumerate(doc):\n",
        "      z = Z[d][index]\n",
        "      ndz[d,z]-=1\n",
        "      nzw[z,w]-=1\n",
        "      nz[z]-=1\n",
        "      pz = np.divide(np.multiply(ndz[d,:],nzw[:,w]),nz)\n",
        "      z = np.random.multinomial(1,pz/pz.sum()).argmax()\n",
        "      Z[d][index]=z\n",
        "      ndz[d,z]+=1\n",
        "      nzw[z,w]+=1\n",
        "      nz[z]+=1\n",
        "    if t%1000==0:\n",
        "      print('t: '+str(t))\n",
        "    t+=1"
      ],
      "execution_count": 0,
      "outputs": []
    },
    {
      "cell_type": "code",
      "metadata": {
        "id": "S8LI3FFWey9D",
        "colab_type": "code",
        "outputId": "34927ff8-204e-4d53-faef-b45a8d7c9384",
        "colab": {
          "base_uri": "https://localhost:8080/",
          "height": 538
        }
      },
      "source": [
        "for i in range(10):#26\n",
        "  gibbsSampling()\n",
        "  print('i: '+str(i))"
      ],
      "execution_count": 0,
      "outputs": [
        {
          "output_type": "stream",
          "text": [
            "t: 0\n",
            "t: 1000\n",
            "i: 0\n",
            "t: 0\n",
            "t: 1000\n",
            "i: 1\n",
            "t: 0\n",
            "t: 1000\n",
            "i: 2\n",
            "t: 0\n",
            "t: 1000\n",
            "i: 3\n",
            "t: 0\n",
            "t: 1000\n",
            "i: 4\n",
            "t: 0\n",
            "t: 1000\n",
            "i: 5\n",
            "t: 0\n",
            "t: 1000\n",
            "i: 6\n",
            "t: 0\n",
            "t: 1000\n",
            "i: 7\n",
            "t: 0\n",
            "t: 1000\n",
            "i: 8\n",
            "t: 0\n",
            "t: 1000\n",
            "i: 9\n"
          ],
          "name": "stdout"
        }
      ]
    },
    {
      "cell_type": "code",
      "metadata": {
        "id": "lNKzOLZpfVrD",
        "colab_type": "code",
        "outputId": "53cd2b01-d34a-4483-cc7c-35b53ae25e5e",
        "colab": {
          "base_uri": "https://localhost:8080/",
          "height": 191
        }
      },
      "source": [
        "p=0\n",
        "topicwords=[]\n",
        "for z in range(0,K):\n",
        "  ids = nzw[z,:].argsort()\n",
        "  topicword=[]\n",
        "  for j in ids:\n",
        "    topicword.insert(0,id2w[j])\n",
        "  topicwords.append(topicword[0:min(10,len(topicword))])\n",
        "  if p%5==0:\n",
        "    print('p: '+str(p))\n",
        "  p+=1"
      ],
      "execution_count": 0,
      "outputs": [
        {
          "output_type": "stream",
          "text": [
            "p: 0\n",
            "p: 5\n",
            "p: 10\n",
            "p: 15\n",
            "p: 20\n",
            "p: 25\n",
            "p: 30\n",
            "p: 35\n",
            "p: 40\n",
            "p: 45\n"
          ],
          "name": "stdout"
        }
      ]
    },
    {
      "cell_type": "code",
      "metadata": {
        "id": "Pc9LQM-xnxhY",
        "colab_type": "code",
        "outputId": "b9b15a12-407f-4048-d9b2-69f0fa21952e",
        "colab": {
          "base_uri": "https://localhost:8080/",
          "height": 885
        }
      },
      "source": [
        "for x in topicwords:\n",
        "  string=''\n",
        "  for y in x:\n",
        "    string =string+', '+y\n",
        "  print(string)"
      ],
      "execution_count": 0,
      "outputs": [
        {
          "output_type": "stream",
          "text": [
            ", last, work, even, point, can, , free, four, de, better\n",
            ", wa, peopl, women, just, friend, black, love, didn, famili, go\n",
            ", water, street, restaur, day, food, brooklyn, like, small, bar, red\n",
            ", jame, collect, fashion, wear, show, cleveland, night, b, year, dress\n",
            ", health, china, use, servic, plan, care, provid, oper, help, technolog\n",
            ", state, gay, right, s, white, ha, action, race, issu, american\n",
            ", offici, s, c, o, june, n, , month, coupl, announc\n",
            ", ha, time, ani, side, remain, articl, histori, good, publish, like\n",
            ", ha, use, year, call, good, want, will, mani, drive, one\n",
            ", school, student, univers, colleg, educ, high, graduat, degre, institut, class\n",
            ", year, wednesday, said, two, thursday, member, south, time, monday, appear\n",
            ", also, two, home, place, come, commun, northern, mayor, strong, ireland\n",
            ", said, citi, resid, test, sever, accord, hospit, custom, outsid, north\n",
            ", olymp, year, sport, russian, time, track, world, friday, state, f\n",
            ", offic, polic, wa, investig, charg, case, justic, mateen, kill, prison\n",
            ", new, thi, danc, appl, mani, app, church, ballet, perform, one\n",
            ", dr, research, studi, found, can, medic, doctor, univers, h, center\n",
            ", will, say, peopl, thi, person, post, media, also, learn, onlin\n",
            ", new, wa, york, depart, director, nation, s, commiss, remov, \n",
            ", s, thi, think, way, well, ask, differ, chang, might, kind\n",
            ", union, countri, govern, polit, immigr, parti, leader, s, member, econom\n",
            ", unit, agenc, will, russia, countri, athlet, world, intern, nation, last\n",
            ", european, britain, leav, vote, british, europ, london, will, u, brexit\n",
            ", team, play, player, wa, first, game, goal, round, match, n\n",
            ", peopl, gun, list, orlando, shoot, one, measur, mass, includ, report\n",
            ", design, three, new, well, like, also, five, life, model, past\n",
            ", hi, wa, day, s, second, final, later, return, cours, man\n",
            ", deal, organ, includ, also, said, energi, land, plan, power, transfer\n",
            ", compani, million, ha, busi, money, job, execut, industri, firm, pay\n",
            ", bank, s, financi, rate, invest, investor, fund, privat, capit, year\n",
            ", republican, democrat, senat, support, vote, hous, propos, ha, parti, bill\n",
            ", t, can, don, realli, feel, even, someth, much, alway, world\n",
            ", sinc, next, public, second, back, travel, week, expect, least, sign\n",
            ", show, s, book, stori, bill, seri, watch, also, write, letter\n",
            ", s, park, room, open, hotel, film, disney, will, two, space\n",
            ", art, new, artist, build, museum, th, centuri, first, paint, one\n",
            ", ms, may, make, recent, work, product, one, director, s, star\n",
            ", s, music, show, perform, million, week, produc, wa, song, project\n",
            ", percent, market, price, last, increas, rose, point, gain, day, fell\n",
            ", thi, like, look, men, work, still, old, want, long, way\n",
            ", state, attack, group, islam, secur, kill, militari, peopl, offici, forc\n",
            ", law, two, one, turn, program, part, must, texa, appeal, month\n",
            ", wa, news, told, ha, facebook, one, thi, name, onli, c\n",
            ", wa, time, get, know, just, becaus, want, call, lot, d\n",
            ", game, season, run, met, hit, leagu, two, three, first, start\n",
            ", mr, trump, clinton, campaign, presid, obama, said, elect, donald, candid\n",
            ", unit, american, ha, car, owner, call, year, local, , vehicl\n",
            ", one, go, like, re, m, make, now, thing, ve, befor\n",
            ", s, court, case, decis, rule, feder, judg, file, legal, whether\n",
            ", citi, live, hous, one, around, street, apart, william, move, anoth\n"
          ],
          "name": "stdout"
        }
      ]
    },
    {
      "cell_type": "code",
      "metadata": {
        "id": "N08bmWY0lCol",
        "colab_type": "code",
        "outputId": "77b87e46-b99f-4b42-c592-7fff975945c0",
        "colab": {
          "base_uri": "https://localhost:8080/",
          "height": 364
        }
      },
      "source": [
        "#plsa\n",
        "K=35\n",
        "N = 2000\n",
        "M = 32743\n",
        "from collections import Counter \n",
        "X = np.zeros([N,M])\n",
        "for j in range(N):\n",
        "    x = documents[j].split(' ')\n",
        "    c = Counter(x)\n",
        "    for i in range(M):\n",
        "        X[j][i]=c[unique_words[i]]\n",
        "    if j%100==0:\n",
        "        print(j)\n"
      ],
      "execution_count": 0,
      "outputs": [
        {
          "output_type": "stream",
          "text": [
            "0\n",
            "100\n",
            "200\n",
            "300\n",
            "400\n",
            "500\n",
            "600\n",
            "700\n",
            "800\n",
            "900\n",
            "1000\n",
            "1100\n",
            "1200\n",
            "1300\n",
            "1400\n",
            "1500\n",
            "1600\n",
            "1700\n",
            "1800\n",
            "1900\n"
          ],
          "name": "stdout"
        }
      ]
    },
    {
      "cell_type": "code",
      "metadata": {
        "id": "p8EE6L0R-XhR",
        "colab_type": "code",
        "colab": {}
      },
      "source": [
        "lamda = np.random.rand(N,K)\n",
        "for i in range(N):\n",
        "  normalization = np.sum(lamda[i,:])\n",
        "  for j in range(0,K):\n",
        "    lamda[i,j] = lamda[i,j]/normalization\n",
        "theta = np.random.rand(K,M)\n",
        "for i in range(0,K):\n",
        "  normalization = sum(theta[i,:])\n",
        "  for j in range(0,M):\n",
        "    theta[i,j] = theta[i,j]/normalization"
      ],
      "execution_count": 0,
      "outputs": []
    },
    {
      "cell_type": "code",
      "metadata": {
        "id": "h7H5X6OkAK5Q",
        "colab_type": "code",
        "colab": {}
      },
      "source": [
        "p=np.zeros((N,M,K))"
      ],
      "execution_count": 0,
      "outputs": []
    },
    {
      "cell_type": "code",
      "metadata": {
        "id": "rSNMEkgZdRf8",
        "colab_type": "code",
        "colab": {}
      },
      "source": [
        "dict_list=[]"
      ],
      "execution_count": 0,
      "outputs": []
    },
    {
      "cell_type": "code",
      "metadata": {
        "id": "-4DsjdgwcvjY",
        "colab_type": "code",
        "colab": {}
      },
      "source": [
        "for i in range(N):\n",
        "  doc_word={}\n",
        "  for j in range(M):\n",
        "    if X[i][j]>0:\n",
        "      doc_word[j]=np.zeros(K)\n",
        "  dict_list.append(doc_word)"
      ],
      "execution_count": 0,
      "outputs": []
    },
    {
      "cell_type": "code",
      "metadata": {
        "id": "J4-10_bGdXAW",
        "colab_type": "code",
        "colab": {}
      },
      "source": [
        "word_doc = {}\n",
        "for j in range(M):\n",
        "  word_doc[j]=[]\n",
        "  for i in range(N):\n",
        "    if X[i][j]>0:\n",
        "      word_doc[j].append(i)"
      ],
      "execution_count": 0,
      "outputs": []
    },
    {
      "cell_type": "code",
      "metadata": {
        "id": "5yrGi3j6An3H",
        "colab_type": "code",
        "colab": {}
      },
      "source": [
        "def EStep():\n",
        "  for i in range(N):\n",
        "    for j in dict_list[i]:\n",
        "      den=0\n",
        "      for k in range(K):\n",
        "        dict_list[i][j][k]=theta[k,j]*lamda[i,k]\n",
        "        den += dict_list[i][j][k]\n",
        "      if den==0:\n",
        "        for k in range(K):\n",
        "          dict_list[i][j][k]=0\n",
        "      else:\n",
        "        for k in range(K):\n",
        "          dict_list[i][j][k]=dict_list[i][j][k]/den\n",
        "    if i%1000==0:\n",
        "      print('e_i: '+str(i))"
      ],
      "execution_count": 0,
      "outputs": []
    },
    {
      "cell_type": "code",
      "metadata": {
        "id": "DuGhA9A9B8ZC",
        "colab_type": "code",
        "colab": {}
      },
      "source": [
        "def MStep():\n",
        "  for k in range(K):\n",
        "    den=0\n",
        "    for j in range(M):\n",
        "      theta[k,j] =0;\n",
        "      for i in word_doc[j]:\n",
        "        if X[i][j]>0:\n",
        "          theta[k,j] += X[i,j]*dict_list[i][j][k]\n",
        "        den += theta[k,j]\n",
        "    if den==0:\n",
        "      for j in range(M):\n",
        "        theta[k,j] = 1.0/M\n",
        "    else:\n",
        "      for j in range(M):\n",
        "        theta[k,j] = theta[k,j]/den\n",
        "  for i in range(N):\n",
        "    for k in range(K):\n",
        "      lamda[i,k]=0\n",
        "      den=0\n",
        "      for j in dict_list[i]:\n",
        "        lamda[i,k] += X[i,j]*dict_list[i][j][k]\n",
        "        den += X[i,j]\n",
        "      if den==0:\n",
        "        lamda[i,k] = 1.0/K\n",
        "      else:\n",
        "        lamda[i,k] /= den\n",
        "    if i%100==0:\n",
        "      print('m_i: '+str(i))"
      ],
      "execution_count": 0,
      "outputs": []
    },
    {
      "cell_type": "code",
      "metadata": {
        "id": "3wKgNZzZD2i1",
        "colab_type": "code",
        "outputId": "15119b6a-c23f-42a2-d6c0-d1129c3a4d42",
        "colab": {
          "base_uri": "https://localhost:8080/",
          "height": 1000
        }
      },
      "source": [
        "for i in range(10):#20\n",
        "  EStep()\n",
        "  MStep()\n",
        "  print('i: '+str(i))"
      ],
      "execution_count": 0,
      "outputs": [
        {
          "output_type": "stream",
          "text": [
            "e_i: 0\n",
            "e_i: 1000\n",
            "m_i: 0\n",
            "m_i: 100\n",
            "m_i: 200\n",
            "m_i: 300\n",
            "m_i: 400\n",
            "m_i: 500\n",
            "m_i: 600\n",
            "m_i: 700\n",
            "m_i: 800\n",
            "m_i: 900\n",
            "m_i: 1000\n",
            "m_i: 1100\n",
            "m_i: 1200\n",
            "m_i: 1300\n",
            "m_i: 1400\n",
            "m_i: 1500\n",
            "m_i: 1600\n",
            "m_i: 1700\n",
            "m_i: 1800\n",
            "m_i: 1900\n",
            "i: 0\n",
            "e_i: 0\n",
            "e_i: 1000\n",
            "m_i: 0\n",
            "m_i: 100\n",
            "m_i: 200\n",
            "m_i: 300\n",
            "m_i: 400\n",
            "m_i: 500\n",
            "m_i: 600\n",
            "m_i: 700\n",
            "m_i: 800\n",
            "m_i: 900\n",
            "m_i: 1000\n",
            "m_i: 1100\n",
            "m_i: 1200\n",
            "m_i: 1300\n",
            "m_i: 1400\n",
            "m_i: 1500\n",
            "m_i: 1600\n",
            "m_i: 1700\n",
            "m_i: 1800\n",
            "m_i: 1900\n",
            "i: 1\n",
            "e_i: 0\n",
            "e_i: 1000\n",
            "m_i: 0\n",
            "m_i: 100\n",
            "m_i: 200\n",
            "m_i: 300\n",
            "m_i: 400\n",
            "m_i: 500\n",
            "m_i: 600\n",
            "m_i: 700\n",
            "m_i: 800\n",
            "m_i: 900\n",
            "m_i: 1000\n",
            "m_i: 1100\n",
            "m_i: 1200\n",
            "m_i: 1300\n",
            "m_i: 1400\n",
            "m_i: 1500\n",
            "m_i: 1600\n",
            "m_i: 1700\n",
            "m_i: 1800\n",
            "m_i: 1900\n",
            "i: 2\n",
            "e_i: 0\n",
            "e_i: 1000\n",
            "m_i: 0\n",
            "m_i: 100\n",
            "m_i: 200\n",
            "m_i: 300\n",
            "m_i: 400\n",
            "m_i: 500\n",
            "m_i: 600\n",
            "m_i: 700\n",
            "m_i: 800\n",
            "m_i: 900\n",
            "m_i: 1000\n",
            "m_i: 1100\n",
            "m_i: 1200\n",
            "m_i: 1300\n",
            "m_i: 1400\n",
            "m_i: 1500\n",
            "m_i: 1600\n",
            "m_i: 1700\n",
            "m_i: 1800\n",
            "m_i: 1900\n",
            "i: 3\n",
            "e_i: 0\n",
            "e_i: 1000\n",
            "m_i: 0\n",
            "m_i: 100\n",
            "m_i: 200\n",
            "m_i: 300\n",
            "m_i: 400\n",
            "m_i: 500\n",
            "m_i: 600\n",
            "m_i: 700\n",
            "m_i: 800\n",
            "m_i: 900\n",
            "m_i: 1000\n",
            "m_i: 1100\n",
            "m_i: 1200\n",
            "m_i: 1300\n",
            "m_i: 1400\n",
            "m_i: 1500\n",
            "m_i: 1600\n",
            "m_i: 1700\n",
            "m_i: 1800\n",
            "m_i: 1900\n",
            "i: 4\n",
            "e_i: 0\n",
            "e_i: 1000\n",
            "m_i: 0\n",
            "m_i: 100\n",
            "m_i: 200\n",
            "m_i: 300\n",
            "m_i: 400\n",
            "m_i: 500\n",
            "m_i: 600\n",
            "m_i: 700\n",
            "m_i: 800\n",
            "m_i: 900\n",
            "m_i: 1000\n",
            "m_i: 1100\n",
            "m_i: 1200\n",
            "m_i: 1300\n",
            "m_i: 1400\n",
            "m_i: 1500\n",
            "m_i: 1600\n",
            "m_i: 1700\n",
            "m_i: 1800\n",
            "m_i: 1900\n",
            "i: 5\n",
            "e_i: 0\n",
            "e_i: 1000\n",
            "m_i: 0\n",
            "m_i: 100\n",
            "m_i: 200\n",
            "m_i: 300\n",
            "m_i: 400\n",
            "m_i: 500\n",
            "m_i: 600\n",
            "m_i: 700\n",
            "m_i: 800\n",
            "m_i: 900\n",
            "m_i: 1000\n",
            "m_i: 1100\n",
            "m_i: 1200\n",
            "m_i: 1300\n",
            "m_i: 1400\n",
            "m_i: 1500\n",
            "m_i: 1600\n",
            "m_i: 1700\n",
            "m_i: 1800\n",
            "m_i: 1900\n",
            "i: 6\n",
            "e_i: 0\n",
            "e_i: 1000\n",
            "m_i: 0\n",
            "m_i: 100\n",
            "m_i: 200\n",
            "m_i: 300\n",
            "m_i: 400\n",
            "m_i: 500\n",
            "m_i: 600\n",
            "m_i: 700\n",
            "m_i: 800\n",
            "m_i: 900\n",
            "m_i: 1000\n",
            "m_i: 1100\n",
            "m_i: 1200\n",
            "m_i: 1300\n",
            "m_i: 1400\n",
            "m_i: 1500\n",
            "m_i: 1600\n",
            "m_i: 1700\n",
            "m_i: 1800\n",
            "m_i: 1900\n",
            "i: 7\n",
            "e_i: 0\n",
            "e_i: 1000\n",
            "m_i: 0\n",
            "m_i: 100\n",
            "m_i: 200\n",
            "m_i: 300\n",
            "m_i: 400\n",
            "m_i: 500\n",
            "m_i: 600\n",
            "m_i: 700\n",
            "m_i: 800\n",
            "m_i: 900\n",
            "m_i: 1000\n",
            "m_i: 1100\n",
            "m_i: 1200\n",
            "m_i: 1300\n",
            "m_i: 1400\n",
            "m_i: 1500\n",
            "m_i: 1600\n",
            "m_i: 1700\n",
            "m_i: 1800\n",
            "m_i: 1900\n",
            "i: 8\n",
            "e_i: 0\n",
            "e_i: 1000\n",
            "m_i: 0\n",
            "m_i: 100\n",
            "m_i: 200\n",
            "m_i: 300\n",
            "m_i: 400\n",
            "m_i: 500\n",
            "m_i: 600\n",
            "m_i: 700\n",
            "m_i: 800\n",
            "m_i: 900\n",
            "m_i: 1000\n",
            "m_i: 1100\n",
            "m_i: 1200\n",
            "m_i: 1300\n",
            "m_i: 1400\n",
            "m_i: 1500\n",
            "m_i: 1600\n",
            "m_i: 1700\n",
            "m_i: 1800\n",
            "m_i: 1900\n",
            "i: 9\n"
          ],
          "name": "stdout"
        }
      ]
    },
    {
      "cell_type": "code",
      "metadata": {
        "id": "ojNMhLOPEISV",
        "colab_type": "code",
        "outputId": "d8fceb49-672b-45eb-d1d0-736eeefd18d3",
        "colab": {
          "base_uri": "https://localhost:8080/",
          "height": 34
        }
      },
      "source": [
        "K"
      ],
      "execution_count": 0,
      "outputs": [
        {
          "output_type": "execute_result",
          "data": {
            "text/plain": [
              "35"
            ]
          },
          "metadata": {
            "tags": []
          },
          "execution_count": 28
        }
      ]
    },
    {
      "cell_type": "code",
      "metadata": {
        "id": "8_MArJJsOd0r",
        "colab_type": "code",
        "colab": {}
      },
      "source": [
        "topicwords = []\n",
        "for i in range(K):\n",
        "  ids = theta[i,:].argsort()\n",
        "  topicword = []\n",
        "  for j in ids:\n",
        "    topicword.insert(0,id2w[j])\n",
        "  topicwords.append(topicword[0:min(10,len(topicword))])"
      ],
      "execution_count": 0,
      "outputs": []
    },
    {
      "cell_type": "code",
      "metadata": {
        "id": "8pQMVXmFO9EY",
        "colab_type": "code",
        "outputId": "2c365c80-720f-4391-8053-4994498a6e90",
        "colab": {
          "base_uri": "https://localhost:8080/",
          "height": 625
        }
      },
      "source": [
        "for x in topicwords:\n",
        "  string=''\n",
        "  for y in x:\n",
        "    string =string+', '+y\n",
        "  print(string)"
      ],
      "execution_count": 0,
      "outputs": [
        {
          "output_type": "stream",
          "text": [
            ", mr, trump, hi, s, clinton, campaign, republican, ha, parti, donald\n",
            ", s, said, wa, new, custom, compani, can, ha, will, also\n",
            ", percent, s, market, econom, voter, poll, wa, vote, economi, trade\n",
            ", s, said, like, food, ha, street, can, one, thi, restaur\n",
            ", wa, s, hi, ms, thi, like, new, mr, book, year\n",
            ", european, s, britain, union, said, europ, ha, countri, british, leav\n",
            ", game, hi, s, wa, season, team, said, run, play, leagu\n",
            ", compani, s, bank, ha, year, will, said, percent, new, thi\n",
            ", mr, s, said, wa, year, ha, thi, social, ms, new\n",
            ", s, said, insur, car, wa, unit, driver, compani, will, vehicl\n",
            ", court, s, justic, law, case, said, state, wa, decis, suprem\n",
            ", t, s, like, thi, ha, will, can, one, time, make\n",
            ", said, hi, wa, s, year, thi, ha, time, dr, one\n",
            ", wa, said, s, hi, met, go, t, rey, just, can\n",
            ", mr, s, said, china, wa, ha, hi, chines, hong, work\n",
            ", s, said, one, year, ha, will, peopl, project, wa, can\n",
            ", s, wa, art, artist, thi, t, work, hi, show, one\n",
            ", said, mr, hi, wa, polic, s, offic, peopl, gun, orlando\n",
            ", wa, s, hi, one, thi, t, day, like, just, th\n",
            ", wa, s, hi, c, kenyatta, moreno, ocampo, one, thi, kenya\n",
            ", school, student, colleg, univers, s, educ, said, wa, graduat, year\n",
            ", wa, state, said, s, ha, islam, attack, hi, govern, offici\n",
            ", said, mr, ms, s, wa, hi, volkswagen, ha, investig, cox\n",
            ", wa, s, peopl, gay, thi, t, mr, one, right, new\n",
            ", s, wa, said, show, music, mr, ha, perform, theater, new\n",
            ", s, olymp, wa, thi, ha, year, game, one, first, last\n",
            ", wa, game, hi, s, player, jame, team, play, said, final\n",
            ", said, s, wa, mr, state, ha, hi, test, north, drug\n",
            ", s, hi, mr, show, ha, wa, said, like, ms, design\n",
            ", s, wa, hi, ballet, world, team, said, play, danc, ha\n",
            ", s, wa, hi, t, said, mr, like, cuban, life, thi\n",
            ", s, said, wa, mr, hi, facebook, news, t, articl, com\n",
            ", s, wa, men, hi, thi, like, ha, new, year, women\n",
            ", mr, wa, s, said, hi, case, court, govern, charg, thi\n",
            ", said, million, democrat, s, mr, ha, republican, senat, state, year\n"
          ],
          "name": "stdout"
        }
      ]
    },
    {
      "cell_type": "code",
      "metadata": {
        "id": "QyVhbr-2QGQR",
        "colab_type": "code",
        "colab": {}
      },
      "source": [
        ""
      ],
      "execution_count": 0,
      "outputs": []
    }
  ]
}